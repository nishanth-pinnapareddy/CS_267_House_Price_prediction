{
 "cells": [
  {
   "cell_type": "markdown",
   "metadata": {},
   "source": [
    "## Fire up Graphlab "
   ]
  },
  {
   "cell_type": "code",
   "execution_count": 122,
   "metadata": {
    "collapsed": true
   },
   "outputs": [],
   "source": [
    "import graphlab"
   ]
  },
  {
   "cell_type": "markdown",
   "metadata": {},
   "source": [
    "## Load the train dataset"
   ]
  },
  {
   "cell_type": "code",
   "execution_count": 123,
   "metadata": {
    "collapsed": false
   },
   "outputs": [
    {
     "data": {
      "text/html": [
       "<pre>Finished parsing file C:\\Users\\Nishanth Reddy\\GraphLab_Material\\HousePricing Dataset\\train.csv</pre>"
      ],
      "text/plain": [
       "Finished parsing file C:\\Users\\Nishanth Reddy\\GraphLab_Material\\HousePricing Dataset\\train.csv"
      ]
     },
     "metadata": {},
     "output_type": "display_data"
    },
    {
     "data": {
      "text/html": [
       "<pre>Parsing completed. Parsed 100 lines in 0.037555 secs.</pre>"
      ],
      "text/plain": [
       "Parsing completed. Parsed 100 lines in 0.037555 secs."
      ]
     },
     "metadata": {},
     "output_type": "display_data"
    },
    {
     "name": "stdout",
     "output_type": "stream",
     "text": [
      "------------------------------------------------------\n",
      "Inferred types from first 100 line(s) of file as \n",
      "column_type_hints=[long,long,str,long,long,str,str,str,str,str,str,str,str,str,str,str,str,long,long,long,long,str,str,str,str,str,long,str,str,str,str,str,str,str,long,str,long,long,long,str,str,str,str,long,long,long,long,long,long,long,long,long,long,str,long,str,long,str,str,long,str,long,long,str,str,str,long,long,long,long,long,long,str,str,str,long,long,long,str,str,long]\n",
      "If parsing fails due to incorrect types, you can correct\n",
      "the inferred type list above and pass it to read_csv in\n",
      "the column_type_hints argument\n",
      "------------------------------------------------------\n"
     ]
    },
    {
     "data": {
      "text/html": [
       "<pre>Finished parsing file C:\\Users\\Nishanth Reddy\\GraphLab_Material\\HousePricing Dataset\\train.csv</pre>"
      ],
      "text/plain": [
       "Finished parsing file C:\\Users\\Nishanth Reddy\\GraphLab_Material\\HousePricing Dataset\\train.csv"
      ]
     },
     "metadata": {},
     "output_type": "display_data"
    },
    {
     "data": {
      "text/html": [
       "<pre>Parsing completed. Parsed 1460 lines in 0.025099 secs.</pre>"
      ],
      "text/plain": [
       "Parsing completed. Parsed 1460 lines in 0.025099 secs."
      ]
     },
     "metadata": {},
     "output_type": "display_data"
    }
   ],
   "source": [
    "housing_data = graphlab.SFrame(\"train.csv\")"
   ]
  },
  {
   "cell_type": "markdown",
   "metadata": {},
   "source": [
    "## Preprocessing Data"
   ]
  },
  {
   "cell_type": "code",
   "execution_count": 124,
   "metadata": {
    "collapsed": false
   },
   "outputs": [
    {
     "name": "stdout",
     "output_type": "stream",
     "text": [
      "['MSSubClass', 'LotFrontage', 'LotArea', 'OverallQual', 'OverallCond', 'YearBuilt', 'YearRemodAdd', 'MasVnrArea', 'BsmtFinSF1', 'BsmtFinSF2', 'BsmtUnfSF', 'TotalBsmtSF', '1stFlrSF', '2ndFlrSF', 'LowQualFinSF', 'GrLivArea', 'BsmtFullBath', 'BsmtHalfBath', 'FullBath', 'HalfBath', 'BedroomAbvGr', 'KitchenAbvGr', 'TotRmsAbvGrd', 'Fireplaces', 'GarageYrBlt', 'GarageCars', 'GarageArea', 'WoodDeckSF', 'OpenPorchSF', 'EnclosedPorch', '3SsnPorch', 'ScreenPorch', 'PoolArea', 'MiscVal', 'MoSold', 'YrSold', 'SalePrice']\n",
      "\n",
      " No of Numerical features: 37\n",
      "================================================\n",
      "['MSZoning', 'Street', 'Alley', 'LotShape', 'LandContour', 'Utilities', 'LotConfig', 'LandSlope', 'Neighborhood', 'Condition1', 'Condition2', 'BldgType', 'HouseStyle', 'RoofStyle', 'RoofMatl', 'Exterior1st', 'Exterior2nd', 'MasVnrType', 'ExterQual', 'ExterCond', 'Foundation', 'BsmtQual', 'BsmtCond', 'BsmtExposure', 'BsmtFinType1', 'BsmtFinType2', 'Heating', 'HeatingQC', 'CentralAir', 'Electrical', 'KitchenQual', 'Functional', 'FireplaceQu', 'GarageType', 'GarageFinish', 'GarageQual', 'GarageCond', 'PavedDrive', 'PoolQC', 'Fence', 'MiscFeature', 'SaleType', 'SaleCondition']\n",
      "\n",
      " No of Categorical features: 43\n"
     ]
    }
   ],
   "source": [
    "## Remove 'Id' column from dataset\n",
    "housing_data = housing_data.remove_column('Id')\n",
    "\n",
    "## find the numerical and categorical features in data set.\n",
    "numerical_fields = []\n",
    "categorical_fields = []\n",
    "feature_list = housing_data.column_names()\n",
    "for feature in feature_list:\n",
    "    data_type = str(housing_data[feature].dtype())\n",
    "    if \"int\" in data_type:\n",
    "        numerical_fields.append(feature)\n",
    "    else:\n",
    "        categorical_fields.append(feature)\n",
    "        \n",
    "print numerical_fields\n",
    "print \"\\n No of Numerical features: \" +  str(len(numerical_fields))\n",
    "print \"================================================\"\n",
    "print categorical_fields   \n",
    "print \"\\n No of Categorical features: \" + str(len(categorical_fields)) "
   ]
  },
  {
   "cell_type": "code",
   "execution_count": 125,
   "metadata": {
    "collapsed": true
   },
   "outputs": [],
   "source": [
    "from  sklearn.preprocessing import LabelEncoder"
   ]
  },
  {
   "cell_type": "code",
   "execution_count": 126,
   "metadata": {
    "collapsed": false
   },
   "outputs": [
    {
     "name": "stdout",
     "output_type": "stream",
     "text": [
      " Preprocessing the Data...\n",
      "\n",
      " Finished Preprocessing data\n"
     ]
    }
   ],
   "source": [
    "def pre_process_data():\n",
    "    print (\" Preprocessing the Data...\")\n",
    "    for col in categorical_fields:\n",
    "        housing_data[col] = housing_data[col].fillna('default')\n",
    "\n",
    "    for col in numerical_fields:\n",
    "        housing_data[col] = housing_data[col].fillna(housing_data[col].mean())\n",
    "\n",
    "    encode=LabelEncoder()\n",
    "    for col in categorical_fields:\n",
    "        housing_data[col]=encode.fit_transform(housing_data[col])\n",
    "    print (\"\\n Finished Preprocessing data\")\n",
    "        \n",
    "pre_process_data()"
   ]
  },
  {
   "cell_type": "markdown",
   "metadata": {},
   "source": [
    "## Check still if any missing values are present in data set."
   ]
  },
  {
   "cell_type": "code",
   "execution_count": 127,
   "metadata": {
    "collapsed": false
   },
   "outputs": [
    {
     "name": "stdout",
     "output_type": "stream",
     "text": [
      "MSSubClass: \t0.0\n",
      "MSZoning: \t0.0\n",
      "LotFrontage: \t0.0\n",
      "LotArea: \t0.0\n",
      "Street: \t0.0\n",
      "Alley: \t0.0\n",
      "LotShape: \t0.0\n",
      "LandContour: \t0.0\n",
      "Utilities: \t0.0\n",
      "LotConfig: \t0.0\n",
      "LandSlope: \t0.0\n",
      "Neighborhood: \t0.0\n",
      "Condition1: \t0.0\n",
      "Condition2: \t0.0\n",
      "BldgType: \t0.0\n",
      "HouseStyle: \t0.0\n",
      "OverallQual: \t0.0\n",
      "OverallCond: \t0.0\n",
      "YearBuilt: \t0.0\n",
      "YearRemodAdd: \t0.0\n",
      "RoofStyle: \t0.0\n",
      "RoofMatl: \t0.0\n",
      "Exterior1st: \t0.0\n",
      "Exterior2nd: \t0.0\n",
      "MasVnrType: \t0.0\n",
      "MasVnrArea: \t0.0\n",
      "ExterQual: \t0.0\n",
      "ExterCond: \t0.0\n",
      "Foundation: \t0.0\n",
      "BsmtQual: \t0.0\n",
      "BsmtCond: \t0.0\n",
      "BsmtExposure: \t0.0\n",
      "BsmtFinType1: \t0.0\n",
      "BsmtFinSF1: \t0.0\n",
      "BsmtFinType2: \t0.0\n",
      "BsmtFinSF2: \t0.0\n",
      "BsmtUnfSF: \t0.0\n",
      "TotalBsmtSF: \t0.0\n",
      "Heating: \t0.0\n",
      "HeatingQC: \t0.0\n",
      "CentralAir: \t0.0\n",
      "Electrical: \t0.0\n",
      "1stFlrSF: \t0.0\n",
      "2ndFlrSF: \t0.0\n",
      "LowQualFinSF: \t0.0\n",
      "GrLivArea: \t0.0\n",
      "BsmtFullBath: \t0.0\n",
      "BsmtHalfBath: \t0.0\n",
      "FullBath: \t0.0\n",
      "HalfBath: \t0.0\n",
      "BedroomAbvGr: \t0.0\n",
      "KitchenAbvGr: \t0.0\n",
      "KitchenQual: \t0.0\n",
      "TotRmsAbvGrd: \t0.0\n",
      "Functional: \t0.0\n",
      "Fireplaces: \t0.0\n",
      "FireplaceQu: \t0.0\n",
      "GarageType: \t0.0\n",
      "GarageYrBlt: \t0.0\n",
      "GarageFinish: \t0.0\n",
      "GarageCars: \t0.0\n",
      "GarageArea: \t0.0\n",
      "GarageQual: \t0.0\n",
      "GarageCond: \t0.0\n",
      "PavedDrive: \t0.0\n",
      "WoodDeckSF: \t0.0\n",
      "OpenPorchSF: \t0.0\n",
      "EnclosedPorch: \t0.0\n",
      "3SsnPorch: \t0.0\n",
      "ScreenPorch: \t0.0\n",
      "PoolArea: \t0.0\n",
      "PoolQC: \t0.0\n",
      "Fence: \t0.0\n",
      "MiscFeature: \t0.0\n",
      "MiscVal: \t0.0\n",
      "MoSold: \t0.0\n",
      "YrSold: \t0.0\n",
      "SaleType: \t0.0\n",
      "SaleCondition: \t0.0\n",
      "SalePrice: \t0.0\n"
     ]
    }
   ],
   "source": [
    "for varaible in housing_data.column_names():\n",
    "    percent_missing_values = (float(housing_data[varaible].num_missing())/ len(housing_data[varaible])) * 100.0\n",
    "    print (\"{0}: \\t{1}\".format(varaible, percent_missing_values))"
   ]
  },
  {
   "cell_type": "markdown",
   "metadata": {},
   "source": [
    "## Divide dataset into train and test data. So that we can test data for evaluating our model."
   ]
  },
  {
   "cell_type": "code",
   "execution_count": 128,
   "metadata": {
    "collapsed": true
   },
   "outputs": [],
   "source": [
    "# split the original train data in to a new train_data and test_data [splited in to 80% and 20%]\n",
    "housing_data_train, housing_data_test = housing_data.random_split(.8,seed=0)"
   ]
  },
  {
   "cell_type": "markdown",
   "metadata": {},
   "source": [
    "## Create a linear regression model with multiple features"
   ]
  },
  {
   "cell_type": "code",
   "execution_count": 129,
   "metadata": {
    "collapsed": false
   },
   "outputs": [
    {
     "data": {
      "text/html": [
       "<pre>Linear regression:</pre>"
      ],
      "text/plain": [
       "Linear regression:"
      ]
     },
     "metadata": {},
     "output_type": "display_data"
    },
    {
     "data": {
      "text/html": [
       "<pre>--------------------------------------------------------</pre>"
      ],
      "text/plain": [
       "--------------------------------------------------------"
      ]
     },
     "metadata": {},
     "output_type": "display_data"
    },
    {
     "data": {
      "text/html": [
       "<pre>Number of examples          : 1157</pre>"
      ],
      "text/plain": [
       "Number of examples          : 1157"
      ]
     },
     "metadata": {},
     "output_type": "display_data"
    },
    {
     "data": {
      "text/html": [
       "<pre>Number of features          : 79</pre>"
      ],
      "text/plain": [
       "Number of features          : 79"
      ]
     },
     "metadata": {},
     "output_type": "display_data"
    },
    {
     "data": {
      "text/html": [
       "<pre>Number of unpacked features : 79</pre>"
      ],
      "text/plain": [
       "Number of unpacked features : 79"
      ]
     },
     "metadata": {},
     "output_type": "display_data"
    },
    {
     "data": {
      "text/html": [
       "<pre>Number of coefficients    : 80</pre>"
      ],
      "text/plain": [
       "Number of coefficients    : 80"
      ]
     },
     "metadata": {},
     "output_type": "display_data"
    },
    {
     "data": {
      "text/html": [
       "<pre>Starting Newton Method</pre>"
      ],
      "text/plain": [
       "Starting Newton Method"
      ]
     },
     "metadata": {},
     "output_type": "display_data"
    },
    {
     "data": {
      "text/html": [
       "<pre>--------------------------------------------------------</pre>"
      ],
      "text/plain": [
       "--------------------------------------------------------"
      ]
     },
     "metadata": {},
     "output_type": "display_data"
    },
    {
     "data": {
      "text/html": [
       "<pre>+-----------+----------+--------------+--------------------+---------------+</pre>"
      ],
      "text/plain": [
       "+-----------+----------+--------------+--------------------+---------------+"
      ]
     },
     "metadata": {},
     "output_type": "display_data"
    },
    {
     "data": {
      "text/html": [
       "<pre>| Iteration | Passes   | Elapsed Time | Training-max_error | Training-rmse |</pre>"
      ],
      "text/plain": [
       "| Iteration | Passes   | Elapsed Time | Training-max_error | Training-rmse |"
      ]
     },
     "metadata": {},
     "output_type": "display_data"
    },
    {
     "data": {
      "text/html": [
       "<pre>+-----------+----------+--------------+--------------------+---------------+</pre>"
      ],
      "text/plain": [
       "+-----------+----------+--------------+--------------------+---------------+"
      ]
     },
     "metadata": {},
     "output_type": "display_data"
    },
    {
     "data": {
      "text/html": [
       "<pre>| 1         | 2        | 0.036431     | 334479.023873      | 30879.998457  |</pre>"
      ],
      "text/plain": [
       "| 1         | 2        | 0.036431     | 334479.023873      | 30879.998457  |"
      ]
     },
     "metadata": {},
     "output_type": "display_data"
    },
    {
     "data": {
      "text/html": [
       "<pre>+-----------+----------+--------------+--------------------+---------------+</pre>"
      ],
      "text/plain": [
       "+-----------+----------+--------------+--------------------+---------------+"
      ]
     },
     "metadata": {},
     "output_type": "display_data"
    },
    {
     "data": {
      "text/html": [
       "<pre>SUCCESS: Optimal solution found.</pre>"
      ],
      "text/plain": [
       "SUCCESS: Optimal solution found."
      ]
     },
     "metadata": {},
     "output_type": "display_data"
    }
   ],
   "source": [
    "feature_list = numerical_fields + categorical_fields\n",
    "\n",
    "## remove target variable from feature_list\n",
    "feature_list.remove('SalePrice')\n",
    "\n",
    "multivariate_model = graphlab.linear_regression.create(housing_data_train, target = 'SalePrice', features = feature_list, \n",
    "                                                  validation_set = None)"
   ]
  },
  {
   "cell_type": "markdown",
   "metadata": {},
   "source": [
    "## Now that we have fitted the model we can extract the regression weights (coefficients) as an SFrame as follows:"
   ]
  },
  {
   "cell_type": "code",
   "execution_count": 130,
   "metadata": {
    "collapsed": false
   },
   "outputs": [
    {
     "data": {
      "text/html": [
       "<pre></pre>"
      ],
      "text/plain": []
     },
     "metadata": {},
     "output_type": "display_data"
    },
    {
     "name": "stdout",
     "output_type": "stream",
     "text": [
      "+---------------+-------+-----------------+----------------+\n",
      "|      name     | index |      value      |     stderr     |\n",
      "+---------------+-------+-----------------+----------------+\n",
      "|  (intercept)  |  None |  104533.763077  |  1517968.5493  |\n",
      "|   MSSubClass  |  None |  -127.197850005 | 51.0430728747  |\n",
      "|  LotFrontage  |  None |  -164.340349553 |  56.130107224  |\n",
      "|    LotArea    |  None |  0.228161935478 | 0.145056610232 |\n",
      "|  OverallQual  |  None |   11281.765572  | 1354.25523016  |\n",
      "|  OverallCond  |  None |  4176.54215815  | 1204.31343699  |\n",
      "|   YearBuilt   |  None |  125.750620187  |  90.063399395  |\n",
      "|  YearRemodAdd |  None |  27.1489987229  | 78.5134982246  |\n",
      "|   MasVnrArea  |  None |  36.3117144828  | 6.78878465806  |\n",
      "|   BsmtFinSF1  |  None |  2.29837785913  |      nan       |\n",
      "|   BsmtFinSF2  |  None |  4.34497684083  |      nan       |\n",
      "|   BsmtUnfSF   |  None |  -3.93336198035 |      nan       |\n",
      "|  TotalBsmtSF  |  None | -0.741517189063 |      nan       |\n",
      "|    1stFlrSF   |  None |  30.1842605821  | 24871776.0417  |\n",
      "|    2ndFlrSF   |  None |  21.6119619207  | 24871776.0417  |\n",
      "|  LowQualFinSF |  None |  -22.5125096818 | 24871776.0417  |\n",
      "|   GrLivArea   |  None |  20.1211400785  | 24871776.0417  |\n",
      "|  BsmtFullBath |  None |  6520.67673474  | 2785.30072484  |\n",
      "|  BsmtHalfBath |  None |  531.328396495  | 4590.00704546  |\n",
      "|    FullBath   |  None |  2034.16499924  | 3084.98818033  |\n",
      "|    HalfBath   |  None |  -108.328681894 | 2858.44186682  |\n",
      "|  BedroomAbvGr |  None |  -1739.30155673 | 1957.87788864  |\n",
      "|  KitchenAbvGr |  None |  -8924.72267047 | 5882.76923685  |\n",
      "|  TotRmsAbvGrd |  None |   3030.7657131  | 1366.21156065  |\n",
      "|   Fireplaces  |  None |  3108.98437994  |  2581.0932944  |\n",
      "|  GarageYrBlt  |  None |  -50.7594216744 | 80.7402715327  |\n",
      "|   GarageCars  |  None |  15902.4567102  | 3177.02678987  |\n",
      "|   GarageArea  |  None |  -14.9565133447 | 10.8878568491  |\n",
      "|   WoodDeckSF  |  None |  19.2816163518  | 8.66771426003  |\n",
      "|  OpenPorchSF  |  None |  2.57049123218  | 16.7296142084  |\n",
      "| EnclosedPorch |  None |  -17.7471120385 | 17.8425790919  |\n",
      "|   3SsnPorch   |  None |  51.9769526495  | 35.9549686276  |\n",
      "|  ScreenPorch  |  None |  31.7027068846  | 18.2982239952  |\n",
      "|    PoolArea   |  None |  -262.788707421 | 47.7884094491  |\n",
      "|    MiscVal    |  None | 0.0657226043459 |  2.2097648415  |\n",
      "|     MoSold    |  None |  -52.3985703493 | 369.190243564  |\n",
      "|     YrSold    |  None |  -24.949651039  | 748.766241959  |\n",
      "|    MSZoning   |  None |  -1748.08160858 | 1741.49933901  |\n",
      "|     Street    |  None |  10871.9369039  | 21157.0468788  |\n",
      "|     Alley     |  None |  5310.09606818  | 2834.68104494  |\n",
      "|    LotShape   |  None |  -965.711539583 | 754.913626576  |\n",
      "|  LandContour  |  None |  3874.20006546  |  1591.1709643  |\n",
      "|   Utilities   |  None |  -55566.6752981 | 33940.2512388  |\n",
      "|   LotConfig   |  None |  -44.8129060537 | 631.472002605  |\n",
      "|   LandSlope   |  None |  6678.66320462  | 4300.66988562  |\n",
      "|  Neighborhood |  None |  318.247008208  |  178.56823756  |\n",
      "|   Condition1  |  None |  -1241.74042491 | 1165.04411937  |\n",
      "|   Condition2  |  None |  -8417.46316685 | 3427.00365747  |\n",
      "|    BldgType   |  None |  -2346.03376355 | 1702.73301365  |\n",
      "|   HouseStyle  |  None |  -1070.17537072 | 744.971918549  |\n",
      "|   RoofStyle   |  None |  2897.79248304  | 1278.51632143  |\n",
      "|    RoofMatl   |  None |  8955.24173512  | 1875.87844137  |\n",
      "|  Exterior1st  |  None |  -1196.15409816 | 589.838664245  |\n",
      "|  Exterior2nd  |  None |  578.312181226  | 531.140399187  |\n",
      "|   MasVnrType  |  None |  4255.90017254  | 1718.12275804  |\n",
      "|   ExterQual   |  None |  -8374.55882927 | 2211.59150052  |\n",
      "|   ExterCond   |  None |  259.009265085  | 1458.55164977  |\n",
      "|   Foundation  |  None |  1484.87877633  | 1999.66529324  |\n",
      "|    BsmtQual   |  None |  -9799.36103283 | 1643.61626331  |\n",
      "|    BsmtCond   |  None |   2606.0906206  | 1531.77879889  |\n",
      "|  BsmtExposure |  None |  -3673.77881512 | 1006.75040118  |\n",
      "|  BsmtFinType1 |  None |  -1122.62907845 | 710.075490535  |\n",
      "|  BsmtFinType2 |  None |  359.247667523  |  1535.6360584  |\n",
      "|    Heating    |  None |  -4252.57765146 | 3562.53674284  |\n",
      "|   HeatingQC   |  None |  -1079.25678293 | 707.527047526  |\n",
      "|   CentralAir  |  None |  -2102.58949537 | 5012.28041753  |\n",
      "|   Electrical  |  None |  -392.355796432 |  1053.5283882  |\n",
      "|  KitchenQual  |  None |  -9568.76747218 | 1638.57139522  |\n",
      "|   Functional  |  None |   4274.1938861  | 1087.34144424  |\n",
      "|  FireplaceQu  |  None |  -873.281052304 | 1088.68548207  |\n",
      "|   GarageType  |  None |   726.72522421  | 710.007527986  |\n",
      "|  GarageFinish |  None |  -1303.97522834 | 1657.21802657  |\n",
      "|   GarageQual  |  None |  604.179791733  | 1998.10954333  |\n",
      "|   GarageCond  |  None |   3291.6052464  | 2200.08953841  |\n",
      "|   PavedDrive  |  None |  -403.595326857 | 2352.84546043  |\n",
      "|     PoolQC    |  None |  -86614.1657513 | 13883.2522627  |\n",
      "|     Fence     |  None |  449.049882077  | 992.361523188  |\n",
      "|  MiscFeature  |  None |  1861.66897381  | 2998.60932274  |\n",
      "|    SaleType   |  None |  -600.86942594  | 665.651582523  |\n",
      "| SaleCondition |  None |  3352.75652131  | 950.741314708  |\n",
      "+---------------+-------+-----------------+----------------+\n",
      "[80 rows x 4 columns]\n",
      "\n"
     ]
    }
   ],
   "source": [
    "coefficients_summary = multivariate_model.get(\"coefficients\")\n",
    "coefficients_summary.print_rows(num_rows=80, num_columns=4) "
   ]
  },
  {
   "cell_type": "markdown",
   "metadata": {},
   "source": [
    "## Calculate prediction values on the housing data"
   ]
  },
  {
   "cell_type": "code",
   "execution_count": 131,
   "metadata": {
    "collapsed": false
   },
   "outputs": [
    {
     "name": "stdout",
     "output_type": "stream",
     "text": [
      "Predicted Value: 134950.04 \t Actual Value: 144000.00\n",
      "Predicted Value: 132288.35 \t Actual Value: 132000.00\n",
      "Predicted Value: 254067.13 \t Actual Value: 256300.00\n",
      "Predicted Value: 81026.23 \t Actual Value: 40000.00\n",
      "Predicted Value: 181674.05 \t Actual Value: 165500.00\n",
      "Predicted Value: 84853.53 \t Actual Value: 82000.00\n",
      "Predicted Value: 141776.37 \t Actual Value: 170000.00\n",
      "Predicted Value: 214546.32 \t Actual Value: 172500.00\n",
      "Predicted Value: 109178.17 \t Actual Value: 101000.00\n",
      "Predicted Value: 190260.79 \t Actual Value: 185000.00\n",
      "Predicted Value: 124054.03 \t Actual Value: 107400.00\n",
      "Predicted Value: 190642.57 \t Actual Value: 153500.00\n",
      "Predicted Value: 108260.65 \t Actual Value: 109900.00\n",
      "Predicted Value: 228191.72 \t Actual Value: 214000.00\n",
      "Predicted Value: 220575.40 \t Actual Value: 190000.00\n",
      "Predicted Value: 234067.81 \t Actual Value: 259500.00\n",
      "Predicted Value: 177732.20 \t Actual Value: 181000.00\n",
      "Predicted Value: 201294.08 \t Actual Value: 231500.00\n",
      "Predicted Value: 237546.24 \t Actual Value: 260000.00\n",
      "Predicted Value: 220070.77 \t Actual Value: 204000.00\n",
      "Predicted Value: 108522.51 \t Actual Value: 105000.00\n",
      "Predicted Value: 186852.86 \t Actual Value: 190000.00\n",
      "Predicted Value: 167904.61 \t Actual Value: 162500.00\n",
      "Predicted Value: 157618.29 \t Actual Value: 152000.00\n",
      "Predicted Value: 328119.51 \t Actual Value: 325624.00\n",
      "Predicted Value: 119336.72 \t Actual Value: 128500.00\n",
      "Predicted Value: 171386.78 \t Actual Value: 163000.00\n",
      "Predicted Value: 218633.38 \t Actual Value: 243000.00\n",
      "Predicted Value: 182241.06 \t Actual Value: 177000.00\n",
      "Predicted Value: 170569.97 \t Actual Value: 171500.00\n",
      "Predicted Value: 116173.95 \t Actual Value: 110000.00\n",
      "Predicted Value: 194766.30 \t Actual Value: 180500.00\n",
      "Predicted Value: 138274.00 \t Actual Value: 143900.00\n",
      "Predicted Value: 121181.12 \t Actual Value: 134450.00\n",
      "Predicted Value: 222811.60 \t Actual Value: 200000.00\n",
      "Predicted Value: 257890.75 \t Actual Value: 290000.00\n",
      "Predicted Value: 90381.74 \t Actual Value: 106000.00\n",
      "Predicted Value: 98761.49 \t Actual Value: 89500.00\n",
      "Predicted Value: 165499.55 \t Actual Value: 137000.00\n",
      "Predicted Value: 80885.15 \t Actual Value: 76500.00\n",
      "Predicted Value: 174729.53 \t Actual Value: 151000.00\n",
      "Predicted Value: 102067.03 \t Actual Value: 73000.00\n",
      "Predicted Value: 283602.29 \t Actual Value: 290000.00\n",
      "Predicted Value: 252395.06 \t Actual Value: 228500.00\n",
      "Predicted Value: 193114.56 \t Actual Value: 185000.00\n",
      "Predicted Value: 210370.21 \t Actual Value: 207500.00\n",
      "Predicted Value: 241642.34 \t Actual Value: 244600.00\n",
      "Predicted Value: 177565.09 \t Actual Value: 179200.00\n",
      "Predicted Value: 133147.98 \t Actual Value: 131000.00\n",
      "Predicted Value: 205358.69 \t Actual Value: 167000.00\n",
      "Predicted Value: 116818.82 \t Actual Value: 149900.00\n",
      "Predicted Value: 291518.42 \t Actual Value: 295000.00\n",
      "Predicted Value: 300754.09 \t Actual Value: 375000.00\n",
      "Predicted Value: 176063.76 \t Actual Value: 178000.00\n",
      "Predicted Value: 294579.82 \t Actual Value: 260000.00\n",
      "Predicted Value: 326823.05 \t Actual Value: 354000.00\n",
      "Predicted Value: 270799.56 \t Actual Value: 301000.00\n",
      "Predicted Value: 332164.21 \t Actual Value: 242000.00\n",
      "Predicted Value: 139871.63 \t Actual Value: 145250.00\n",
      "Predicted Value: 214293.43 \t Actual Value: 207000.00\n",
      "Predicted Value: 198134.80 \t Actual Value: 192000.00\n",
      "Predicted Value: 326132.90 \t Actual Value: 377426.00\n",
      "Predicted Value: 228569.40 \t Actual Value: 202500.00\n",
      "Predicted Value: 62989.32 \t Actual Value: 87500.00\n",
      "Predicted Value: 75924.52 \t Actual Value: 85000.00\n",
      "Predicted Value: 200972.24 \t Actual Value: 154000.00\n",
      "Predicted Value: 303361.46 \t Actual Value: 318061.00\n",
      "Predicted Value: 190488.94 \t Actual Value: 190000.00\n",
      "Predicted Value: 119042.94 \t Actual Value: 105900.00\n",
      "Predicted Value: 144482.67 \t Actual Value: 134000.00\n",
      "Predicted Value: 188349.18 \t Actual Value: 190000.00\n",
      "Predicted Value: 192397.38 \t Actual Value: 165000.00\n",
      "Predicted Value: 186731.46 \t Actual Value: 162000.00\n",
      "Predicted Value: 103028.98 \t Actual Value: 134432.00\n",
      "Predicted Value: 139450.25 \t Actual Value: 148000.00\n",
      "Predicted Value: 188711.57 \t Actual Value: 192000.00\n",
      "Predicted Value: 192471.90 \t Actual Value: 191000.00\n",
      "Predicted Value: 234543.47 \t Actual Value: 215000.00\n",
      "Predicted Value: 92388.59 \t Actual Value: 106500.00\n",
      "Predicted Value: 54117.03 \t Actual Value: 100000.00\n",
      "Predicted Value: 132490.68 \t Actual Value: 123000.00\n",
      "Predicted Value: 102379.26 \t Actual Value: 108000.00\n",
      "Predicted Value: 170590.03 \t Actual Value: 168000.00\n",
      "Predicted Value: 151369.87 \t Actual Value: 150000.00\n",
      "Predicted Value: 253577.14 \t Actual Value: 228000.00\n",
      "Predicted Value: 213285.80 \t Actual Value: 181134.00\n",
      "Predicted Value: 244652.97 \t Actual Value: 239000.00\n",
      "Predicted Value: 197804.43 \t Actual Value: 206300.00\n",
      "Predicted Value: 99239.50 \t Actual Value: 109008.00\n",
      "Predicted Value: 99643.83 \t Actual Value: 79900.00\n",
      "Predicted Value: 119480.73 \t Actual Value: 122500.00\n",
      "Predicted Value: 217745.44 \t Actual Value: 172500.00\n",
      "Predicted Value: 222052.21 \t Actual Value: 210000.00\n",
      "Predicted Value: 284461.05 \t Actual Value: 280000.00\n",
      "Predicted Value: 103859.54 \t Actual Value: 110000.00\n",
      "Predicted Value: 193373.83 \t Actual Value: 155000.00\n",
      "Predicted Value: 169976.05 \t Actual Value: 146500.00\n",
      "Predicted Value: 245694.15 \t Actual Value: 250000.00\n",
      "Predicted Value: 217682.10 \t Actual Value: 212000.00\n",
      "Predicted Value: 304425.60 \t Actual Value: 297000.00\n",
      "Predicted Value: 146583.82 \t Actual Value: 132500.00\n",
      "Predicted Value: 104608.36 \t Actual Value: 115000.00\n",
      "Predicted Value: 175730.30 \t Actual Value: 133000.00\n",
      "Predicted Value: 335044.45 \t Actual Value: 430000.00\n",
      "Predicted Value: 135786.23 \t Actual Value: 130000.00\n",
      "Predicted Value: 230780.15 \t Actual Value: 289000.00\n",
      "Predicted Value: 153437.28 \t Actual Value: 124500.00\n",
      "Predicted Value: 119226.57 \t Actual Value: 134000.00\n",
      "Predicted Value: 187906.60 \t Actual Value: 211000.00\n",
      "Predicted Value: 50402.37 \t Actual Value: 106250.00\n",
      "Predicted Value: 410613.32 \t Actual Value: 446261.00\n",
      "Predicted Value: 228218.78 \t Actual Value: 178000.00\n",
      "Predicted Value: 107612.14 \t Actual Value: 107500.00\n",
      "Predicted Value: 252256.67 \t Actual Value: 272000.00\n",
      "Predicted Value: 375077.18 \t Actual Value: 315000.00\n",
      "Predicted Value: 224083.66 \t Actual Value: 213250.00\n",
      "Predicted Value: 115961.83 \t Actual Value: 112500.00\n",
      "Predicted Value: 114411.92 \t Actual Value: 108000.00\n",
      "Predicted Value: 174062.00 \t Actual Value: 121500.00\n",
      "Predicted Value: 271726.92 \t Actual Value: 316600.00\n",
      "Predicted Value: 132159.47 \t Actual Value: 135960.00\n",
      "Predicted Value: 138733.00 \t Actual Value: 142600.00\n",
      "Predicted Value: 158460.99 \t Actual Value: 145000.00\n",
      "Predicted Value: 100551.29 \t Actual Value: 118500.00\n",
      "Predicted Value: 401065.27 \t Actual Value: 451950.00\n",
      "Predicted Value: 111945.13 \t Actual Value: 114504.00\n",
      "Predicted Value: 225831.13 \t Actual Value: 194201.00\n",
      "Predicted Value: 160512.53 \t Actual Value: 151000.00\n",
      "Predicted Value: 128356.49 \t Actual Value: 141000.00\n",
      "Predicted Value: 105488.25 \t Actual Value: 118500.00\n",
      "Predicted Value: 127984.45 \t Actual Value: 105500.00\n",
      "Predicted Value: 212234.84 \t Actual Value: 168500.00\n",
      "Predicted Value: 188379.40 \t Actual Value: 200000.00\n",
      "Predicted Value: 108168.64 \t Actual Value: 85000.00\n",
      "Predicted Value: 320369.94 \t Actual Value: 345000.00\n",
      "Predicted Value: 114442.64 \t Actual Value: 108000.00\n",
      "Predicted Value: 96793.77 \t Actual Value: 88000.00\n",
      "Predicted Value: 196472.98 \t Actual Value: 197900.00\n",
      "Predicted Value: 327047.45 \t Actual Value: 402000.00\n",
      "Predicted Value: 131135.72 \t Actual Value: 137500.00\n",
      "Predicted Value: 187530.95 \t Actual Value: 173500.00\n",
      "Predicted Value: 226272.63 \t Actual Value: 257500.00\n",
      "Predicted Value: 245234.43 \t Actual Value: 392000.00\n",
      "Predicted Value: 150255.67 \t Actual Value: 141000.00\n",
      "Predicted Value: 124507.91 \t Actual Value: 141500.00\n",
      "Predicted Value: 85949.08 \t Actual Value: 89000.00\n",
      "Predicted Value: 95468.39 \t Actual Value: 102776.00\n",
      "Predicted Value: 180115.15 \t Actual Value: 159500.00\n",
      "Predicted Value: 166095.33 \t Actual Value: 157000.00\n",
      "Predicted Value: 234208.62 \t Actual Value: 275000.00\n",
      "Predicted Value: 254854.96 \t Actual Value: 222000.00\n",
      "Predicted Value: 216895.10 \t Actual Value: 194500.00\n",
      "Predicted Value: 139382.15 \t Actual Value: 110000.00\n",
      "Predicted Value: 83118.04 \t Actual Value: 103000.00\n",
      "Predicted Value: 226453.18 \t Actual Value: 236500.00\n",
      "Predicted Value: 102268.00 \t Actual Value: 108000.00\n",
      "Predicted Value: 227408.89 \t Actual Value: 239900.00\n",
      "Predicted Value: 164066.91 \t Actual Value: 142000.00\n",
      "Predicted Value: 237739.94 \t Actual Value: 236000.00\n",
      "Predicted Value: 172317.33 \t Actual Value: 162000.00\n",
      "Predicted Value: 154616.11 \t Actual Value: 158900.00\n",
      "Predicted Value: 172939.51 \t Actual Value: 179400.00\n",
      "Predicted Value: 198245.87 \t Actual Value: 215200.00\n",
      "Predicted Value: 177035.35 \t Actual Value: 196500.00\n",
      "Predicted Value: 285467.51 \t Actual Value: 395000.00\n",
      "Predicted Value: 183069.09 \t Actual Value: 162000.00\n",
      "Predicted Value: 192248.40 \t Actual Value: 187100.00\n",
      "Predicted Value: 232171.98 \t Actual Value: 233000.00\n",
      "Predicted Value: 94603.40 \t Actual Value: 107900.00\n",
      "Predicted Value: 245597.90 \t Actual Value: 225000.00\n",
      "Predicted Value: 216537.08 \t Actual Value: 189000.00\n",
      "Predicted Value: 396612.70 \t Actual Value: 582933.00\n",
      "Predicted Value: 159207.82 \t Actual Value: 106000.00\n",
      "Predicted Value: 143584.77 \t Actual Value: 55993.00\n",
      "Predicted Value: 118797.85 \t Actual Value: 137000.00\n",
      "Predicted Value: 233792.38 \t Actual Value: 237000.00\n",
      "Predicted Value: 121695.09 \t Actual Value: 153500.00\n",
      "Predicted Value: 147113.61 \t Actual Value: 157500.00\n",
      "Predicted Value: 160223.11 \t Actual Value: 158000.00\n",
      "Predicted Value: 252574.07 \t Actual Value: 250000.00\n",
      "Predicted Value: 156496.15 \t Actual Value: 152000.00\n",
      "Predicted Value: 125919.04 \t Actual Value: 148500.00\n",
      "Predicted Value: 317352.29 \t Actual Value: 303477.00\n",
      "Predicted Value: 103669.12 \t Actual Value: 118500.00\n",
      "Predicted Value: 97076.02 \t Actual Value: 100000.00\n",
      "Predicted Value: 261690.42 \t Actual Value: 328900.00\n",
      "Predicted Value: 306130.03 \t Actual Value: 268000.00\n",
      "Predicted Value: 171858.06 \t Actual Value: 149500.00\n",
      "Predicted Value: 105318.26 \t Actual Value: 118858.00\n",
      "Predicted Value: 188237.49 \t Actual Value: 140000.00\n",
      "Predicted Value: 73574.10 \t Actual Value: 88000.00\n",
      "Predicted Value: 203229.43 \t Actual Value: 176000.00\n",
      "Predicted Value: 326524.16 \t Actual Value: 320000.00\n",
      "Predicted Value: 225772.21 \t Actual Value: 253000.00\n",
      "Predicted Value: 226053.08 \t Actual Value: 239799.00\n",
      "Predicted Value: 204610.85 \t Actual Value: 244400.00\n",
      "Predicted Value: 124647.84 \t Actual Value: 143000.00\n",
      "Predicted Value: 272542.23 \t Actual Value: 239000.00\n",
      "Predicted Value: 94465.34 \t Actual Value: 85500.00\n",
      "Predicted Value: 83352.26 \t Actual Value: 110000.00\n",
      "Predicted Value: 204133.82 \t Actual Value: 159895.00\n",
      "Predicted Value: 166135.32 \t Actual Value: 173900.00\n",
      "Predicted Value: 365253.31 \t Actual Value: 337500.00\n",
      "Predicted Value: 119936.80 \t Actual Value: 86000.00\n",
      "Predicted Value: 106869.86 \t Actual Value: 135000.00\n",
      "Predicted Value: 197929.47 \t Actual Value: 213490.00\n",
      "Predicted Value: 155625.11 \t Actual Value: 167500.00\n",
      "Predicted Value: 124233.13 \t Actual Value: 105000.00\n",
      "Predicted Value: 279758.44 \t Actual Value: 310000.00\n",
      "Predicted Value: 142392.71 \t Actual Value: 155000.00\n",
      "Predicted Value: 257959.51 \t Actual Value: 262280.00\n",
      "Predicted Value: 348926.45 \t Actual Value: 278000.00\n",
      "Predicted Value: 143841.63 \t Actual Value: 139600.00\n",
      "Predicted Value: 141033.20 \t Actual Value: 115000.00\n",
      "Predicted Value: 86026.92 \t Actual Value: 84900.00\n",
      "Predicted Value: 157115.33 \t Actual Value: 110500.00\n",
      "Predicted Value: 272802.31 \t Actual Value: 328000.00\n",
      "Predicted Value: 195651.39 \t Actual Value: 167900.00\n",
      "Predicted Value: 148813.70 \t Actual Value: 154000.00\n",
      "Predicted Value: 168560.63 \t Actual Value: 170000.00\n",
      "Predicted Value: 177734.11 \t Actual Value: 145000.00\n",
      "Predicted Value: 163748.90 \t Actual Value: 137500.00\n",
      "Predicted Value: 108550.29 \t Actual Value: 128000.00\n",
      "Predicted Value: 186192.21 \t Actual Value: 157000.00\n",
      "Predicted Value: 117322.92 \t Actual Value: 135000.00\n",
      "Predicted Value: 169865.21 \t Actual Value: 159500.00\n",
      "Predicted Value: 221316.91 \t Actual Value: 179900.00\n",
      "Predicted Value: 291442.89 \t Actual Value: 280000.00\n",
      "Predicted Value: 113555.34 \t Actual Value: 129900.00\n",
      "Predicted Value: 134596.96 \t Actual Value: 134500.00\n",
      "Predicted Value: 112725.36 \t Actual Value: 140000.00\n",
      "Predicted Value: 109869.84 \t Actual Value: 115000.00\n",
      "Predicted Value: 234435.76 \t Actual Value: 215000.00\n",
      "Predicted Value: 106321.26 \t Actual Value: 119000.00\n",
      "Predicted Value: 99304.31 \t Actual Value: 94000.00\n",
      "Predicted Value: 198938.51 \t Actual Value: 197500.00\n",
      "Predicted Value: 191068.32 \t Actual Value: 180000.00\n",
      "Predicted Value: 163073.88 \t Actual Value: 174500.00\n",
      "Predicted Value: 160352.78 \t Actual Value: 149900.00\n",
      "Predicted Value: 227520.67 \t Actual Value: 201800.00\n",
      "Predicted Value: 203974.52 \t Actual Value: 185000.00\n",
      "Predicted Value: 254034.39 \t Actual Value: 245350.00\n",
      "Predicted Value: 162972.56 \t Actual Value: 171900.00\n",
      "Predicted Value: 109541.89 \t Actual Value: 115000.00\n",
      "Predicted Value: 197456.41 \t Actual Value: 186700.00\n",
      "Predicted Value: 182053.66 \t Actual Value: 165000.00\n",
      "Predicted Value: 251253.97 \t Actual Value: 219210.00\n",
      "Predicted Value: 143276.14 \t Actual Value: 144000.00\n",
      "Predicted Value: 281311.83 \t Actual Value: 271900.00\n",
      "Predicted Value: 145171.24 \t Actual Value: 140000.00\n",
      "Predicted Value: 227891.14 \t Actual Value: 164000.00\n",
      "Predicted Value: 140556.91 \t Actual Value: 112000.00\n",
      "Predicted Value: 136370.43 \t Actual Value: 134000.00\n",
      "Predicted Value: 149977.53 \t Actual Value: 137900.00\n",
      "Predicted Value: 154327.82 \t Actual Value: 147000.00\n",
      "Predicted Value: 134386.27 \t Actual Value: 132500.00\n",
      "Predicted Value: 129858.47 \t Actual Value: 138887.00\n",
      "Predicted Value: 254623.01 \t Actual Value: 265900.00\n",
      "Predicted Value: 180767.80 \t Actual Value: 170000.00\n",
      "Predicted Value: 188262.10 \t Actual Value: 178000.00\n",
      "Predicted Value: 196468.43 \t Actual Value: 186500.00\n",
      "Predicted Value: 114956.33 \t Actual Value: 119000.00\n",
      "Predicted Value: 267819.90 \t Actual Value: 244000.00\n",
      "Predicted Value: 259551.70 \t Actual Value: 294000.00\n",
      "Predicted Value: 170742.13 \t Actual Value: 181000.00\n",
      "Predicted Value: 187430.83 \t Actual Value: 185750.00\n",
      "Predicted Value: 183367.99 \t Actual Value: 177000.00\n",
      "Predicted Value: 155491.36 \t Actual Value: 162000.00\n",
      "Predicted Value: 182515.43 \t Actual Value: 143000.00\n",
      "Predicted Value: 111067.29 \t Actual Value: 119000.00\n",
      "Predicted Value: 86171.72 \t Actual Value: 111000.00\n",
      "Predicted Value: 232081.49 \t Actual Value: 190000.00\n",
      "Predicted Value: 59415.95 \t Actual Value: 55000.00\n",
      "Predicted Value: 240937.74 \t Actual Value: 256000.00\n",
      "Predicted Value: 107080.11 \t Actual Value: 125000.00\n",
      "Predicted Value: 173988.66 \t Actual Value: 167900.00\n",
      "Predicted Value: 124842.52 \t Actual Value: 123000.00\n",
      "Predicted Value: 164900.91 \t Actual Value: 177000.00\n",
      "Predicted Value: 197882.05 \t Actual Value: 155835.00\n",
      "Predicted Value: 233488.14 \t Actual Value: 235000.00\n",
      "Predicted Value: 191395.42 \t Actual Value: 170000.00\n",
      "Predicted Value: 119151.75 \t Actual Value: 127000.00\n",
      "Predicted Value: 154718.49 \t Actual Value: 144000.00\n",
      "Predicted Value: 269022.74 \t Actual Value: 232000.00\n",
      "Predicted Value: 241231.69 \t Actual Value: 250000.00\n",
      "Predicted Value: 205139.92 \t Actual Value: 157000.00\n",
      "Predicted Value: 231654.50 \t Actual Value: 235000.00\n",
      "Predicted Value: 182071.23 \t Actual Value: 160000.00\n",
      "Predicted Value: 203170.51 \t Actual Value: 193879.00\n",
      "Predicted Value: 86245.23 \t Actual Value: 105000.00\n",
      "Predicted Value: 110424.63 \t Actual Value: 112000.00\n",
      "Predicted Value: 134592.23 \t Actual Value: 125500.00\n",
      "Predicted Value: 220978.76 \t Actual Value: 175900.00\n",
      "Predicted Value: 298934.85 \t Actual Value: 340000.00\n",
      "Predicted Value: 157272.18 \t Actual Value: 136500.00\n",
      "Predicted Value: 133065.49 \t Actual Value: 144000.00\n",
      "Predicted Value: 186662.89 \t Actual Value: 142000.00\n",
      "Predicted Value: 248790.89 \t Actual Value: 271000.00\n",
      "Predicted Value: 126628.69 \t Actual Value: 143750.00\n",
      "Predicted Value: 206013.02 \t Actual Value: 179600.00\n",
      "Predicted Value: 116802.82 \t Actual Value: 136000.00\n",
      "Predicted Value: 242341.77 \t Actual Value: 266500.00\n",
      "Predicted Value: 158548.89 \t Actual Value: 147500.00\n"
     ]
    }
   ],
   "source": [
    "predicted_values = multivariate_model.predict(housing_data_test)\n",
    "for index in range(len(predicted_values)):\n",
    "    print \"Predicted Value: %.2f \\t Actual Value: %.2f\" % (predicted_values[index], housing_data_test['SalePrice'][index])"
   ]
  },
  {
   "cell_type": "markdown",
   "metadata": {},
   "source": [
    "## Evaluate model with test data\n"
   ]
  },
  {
   "cell_type": "code",
   "execution_count": 132,
   "metadata": {
    "collapsed": false
   },
   "outputs": [
    {
     "name": "stdout",
     "output_type": "stream",
     "text": [
      "{'max_error': 186320.29769375856, 'rmse': 29432.420984261906}\n"
     ]
    }
   ],
   "source": [
    "results = multivariate_model.evaluate(housing_data_test)\n",
    "print results"
   ]
  },
  {
   "cell_type": "code",
   "execution_count": null,
   "metadata": {
    "collapsed": true
   },
   "outputs": [],
   "source": []
  }
 ],
 "metadata": {
  "kernelspec": {
   "display_name": "Python 2",
   "language": "python",
   "name": "python2"
  },
  "language_info": {
   "codemirror_mode": {
    "name": "ipython",
    "version": 2
   },
   "file_extension": ".py",
   "mimetype": "text/x-python",
   "name": "python",
   "nbconvert_exporter": "python",
   "pygments_lexer": "ipython2",
   "version": "2.7.12"
  }
 },
 "nbformat": 4,
 "nbformat_minor": 0
}
