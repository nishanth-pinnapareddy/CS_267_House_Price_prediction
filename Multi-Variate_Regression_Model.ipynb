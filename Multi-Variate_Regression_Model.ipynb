{
 "cells": [
  {
   "cell_type": "markdown",
   "metadata": {},
   "source": [
    "## Fire up Graphlab "
   ]
  },
  {
   "cell_type": "code",
   "execution_count": 73,
   "metadata": {
    "collapsed": true
   },
   "outputs": [],
   "source": [
    "import graphlab"
   ]
  },
  {
   "cell_type": "markdown",
   "metadata": {},
   "source": [
    "## Load the train dataset"
   ]
  },
  {
   "cell_type": "code",
   "execution_count": 74,
   "metadata": {
    "collapsed": false
   },
   "outputs": [
    {
     "data": {
      "text/html": [
       "<pre>Finished parsing file C:\\Users\\Nishanth Reddy\\GraphLab_Material\\HousePricing Dataset\\train.csv</pre>"
      ],
      "text/plain": [
       "Finished parsing file C:\\Users\\Nishanth Reddy\\GraphLab_Material\\HousePricing Dataset\\train.csv"
      ]
     },
     "metadata": {},
     "output_type": "display_data"
    },
    {
     "data": {
      "text/html": [
       "<pre>Parsing completed. Parsed 100 lines in 0.037669 secs.</pre>"
      ],
      "text/plain": [
       "Parsing completed. Parsed 100 lines in 0.037669 secs."
      ]
     },
     "metadata": {},
     "output_type": "display_data"
    },
    {
     "name": "stdout",
     "output_type": "stream",
     "text": [
      "------------------------------------------------------\n",
      "Inferred types from first 100 line(s) of file as \n",
      "column_type_hints=[long,long,str,long,long,str,str,str,str,str,str,str,str,str,str,str,str,long,long,long,long,str,str,str,str,str,long,str,str,str,str,str,str,str,long,str,long,long,long,str,str,str,str,long,long,long,long,long,long,long,long,long,long,str,long,str,long,str,str,long,str,long,long,str,str,str,long,long,long,long,long,long,str,str,str,long,long,long,str,str,long]\n",
      "If parsing fails due to incorrect types, you can correct\n",
      "the inferred type list above and pass it to read_csv in\n",
      "the column_type_hints argument\n",
      "------------------------------------------------------\n"
     ]
    },
    {
     "data": {
      "text/html": [
       "<pre>Finished parsing file C:\\Users\\Nishanth Reddy\\GraphLab_Material\\HousePricing Dataset\\train.csv</pre>"
      ],
      "text/plain": [
       "Finished parsing file C:\\Users\\Nishanth Reddy\\GraphLab_Material\\HousePricing Dataset\\train.csv"
      ]
     },
     "metadata": {},
     "output_type": "display_data"
    },
    {
     "data": {
      "text/html": [
       "<pre>Parsing completed. Parsed 1460 lines in 0.025481 secs.</pre>"
      ],
      "text/plain": [
       "Parsing completed. Parsed 1460 lines in 0.025481 secs."
      ]
     },
     "metadata": {},
     "output_type": "display_data"
    }
   ],
   "source": [
    "housing_data = graphlab.SFrame(\"train.csv\")"
   ]
  },
  {
   "cell_type": "markdown",
   "metadata": {},
   "source": [
    "## Preprocessing Data"
   ]
  },
  {
   "cell_type": "code",
   "execution_count": 75,
   "metadata": {
    "collapsed": false
   },
   "outputs": [
    {
     "name": "stdout",
     "output_type": "stream",
     "text": [
      "['MSSubClass', 'LotFrontage', 'LotArea', 'OverallQual', 'OverallCond', 'YearBuilt', 'YearRemodAdd', 'MasVnrArea', 'BsmtFinSF1', 'BsmtFinSF2', 'BsmtUnfSF', 'TotalBsmtSF', '1stFlrSF', '2ndFlrSF', 'LowQualFinSF', 'GrLivArea', 'BsmtFullBath', 'BsmtHalfBath', 'FullBath', 'HalfBath', 'BedroomAbvGr', 'KitchenAbvGr', 'TotRmsAbvGrd', 'Fireplaces', 'GarageYrBlt', 'GarageCars', 'GarageArea', 'WoodDeckSF', 'OpenPorchSF', 'EnclosedPorch', '3SsnPorch', 'ScreenPorch', 'PoolArea', 'MiscVal', 'MoSold', 'YrSold', 'SalePrice']\n",
      "\n",
      " No of Numerical features: 37\n",
      "================================================\n",
      "['MSZoning', 'Street', 'Alley', 'LotShape', 'LandContour', 'Utilities', 'LotConfig', 'LandSlope', 'Neighborhood', 'Condition1', 'Condition2', 'BldgType', 'HouseStyle', 'RoofStyle', 'RoofMatl', 'Exterior1st', 'Exterior2nd', 'MasVnrType', 'ExterQual', 'ExterCond', 'Foundation', 'BsmtQual', 'BsmtCond', 'BsmtExposure', 'BsmtFinType1', 'BsmtFinType2', 'Heating', 'HeatingQC', 'CentralAir', 'Electrical', 'KitchenQual', 'Functional', 'FireplaceQu', 'GarageType', 'GarageFinish', 'GarageQual', 'GarageCond', 'PavedDrive', 'PoolQC', 'Fence', 'MiscFeature', 'SaleType', 'SaleCondition']\n",
      "\n",
      " No of Categorical features: 43\n"
     ]
    }
   ],
   "source": [
    "## Remove 'Id' column from dataset\n",
    "housing_data = housing_data.remove_column('Id')\n",
    "\n",
    "## find the numerical and categorical features in data set.\n",
    "numerical_fields = []\n",
    "categorical_fields = []\n",
    "feature_list = housing_data.column_names()\n",
    "for feature in feature_list:\n",
    "    data_type = str(housing_data[feature].dtype())\n",
    "    if \"int\" in data_type:\n",
    "        numerical_fields.append(feature)\n",
    "    else:\n",
    "        categorical_fields.append(feature)\n",
    "        \n",
    "print numerical_fields\n",
    "print \"\\n No of Numerical features: \" +  str(len(numerical_fields))\n",
    "print \"================================================\"\n",
    "print categorical_fields   \n",
    "print \"\\n No of Categorical features: \" + str(len(categorical_fields)) "
   ]
  },
  {
   "cell_type": "code",
   "execution_count": 76,
   "metadata": {
    "collapsed": true
   },
   "outputs": [],
   "source": [
    "from  sklearn.preprocessing import LabelEncoder"
   ]
  },
  {
   "cell_type": "code",
   "execution_count": 77,
   "metadata": {
    "collapsed": false
   },
   "outputs": [
    {
     "name": "stdout",
     "output_type": "stream",
     "text": [
      " Preprocessing the Data...\n",
      "\n",
      " Finished Preprocessing data\n"
     ]
    }
   ],
   "source": [
    "def pre_process_data():\n",
    "    print (\" Preprocessing the Data...\")\n",
    "    for col in categorical_fields:\n",
    "        housing_data[col] = housing_data[col].fillna('default')\n",
    "\n",
    "    for col in numerical_fields:\n",
    "        housing_data[col] = housing_data[col].fillna(0)\n",
    "\n",
    "    encode=LabelEncoder()\n",
    "    for col in categorical_fields:\n",
    "        housing_data[col]=encode.fit_transform(housing_data[col])\n",
    "    print (\"\\n Finished Preprocessing data\")\n",
    "        \n",
    "pre_process_data()"
   ]
  },
  {
   "cell_type": "markdown",
   "metadata": {},
   "source": [
    "## Check still if any missing values are present in data set."
   ]
  },
  {
   "cell_type": "code",
   "execution_count": 82,
   "metadata": {
    "collapsed": false
   },
   "outputs": [
    {
     "name": "stdout",
     "output_type": "stream",
     "text": [
      "MSSubClass: \t0.0\n",
      "MSZoning: \t0.0\n",
      "LotFrontage: \t0.0\n",
      "LotArea: \t0.0\n",
      "Street: \t0.0\n",
      "Alley: \t0.0\n",
      "LotShape: \t0.0\n",
      "LandContour: \t0.0\n",
      "Utilities: \t0.0\n",
      "LotConfig: \t0.0\n",
      "LandSlope: \t0.0\n",
      "Neighborhood: \t0.0\n",
      "Condition1: \t0.0\n",
      "Condition2: \t0.0\n",
      "BldgType: \t0.0\n",
      "HouseStyle: \t0.0\n",
      "OverallQual: \t0.0\n",
      "OverallCond: \t0.0\n",
      "YearBuilt: \t0.0\n",
      "YearRemodAdd: \t0.0\n",
      "RoofStyle: \t0.0\n",
      "RoofMatl: \t0.0\n",
      "Exterior1st: \t0.0\n",
      "Exterior2nd: \t0.0\n",
      "MasVnrType: \t0.0\n",
      "MasVnrArea: \t0.0\n",
      "ExterQual: \t0.0\n",
      "ExterCond: \t0.0\n",
      "Foundation: \t0.0\n",
      "BsmtQual: \t0.0\n",
      "BsmtCond: \t0.0\n",
      "BsmtExposure: \t0.0\n",
      "BsmtFinType1: \t0.0\n",
      "BsmtFinSF1: \t0.0\n",
      "BsmtFinType2: \t0.0\n",
      "BsmtFinSF2: \t0.0\n",
      "BsmtUnfSF: \t0.0\n",
      "TotalBsmtSF: \t0.0\n",
      "Heating: \t0.0\n",
      "HeatingQC: \t0.0\n",
      "CentralAir: \t0.0\n",
      "Electrical: \t0.0\n",
      "1stFlrSF: \t0.0\n",
      "2ndFlrSF: \t0.0\n",
      "LowQualFinSF: \t0.0\n",
      "GrLivArea: \t0.0\n",
      "BsmtFullBath: \t0.0\n",
      "BsmtHalfBath: \t0.0\n",
      "FullBath: \t0.0\n",
      "HalfBath: \t0.0\n",
      "BedroomAbvGr: \t0.0\n",
      "KitchenAbvGr: \t0.0\n",
      "KitchenQual: \t0.0\n",
      "TotRmsAbvGrd: \t0.0\n",
      "Functional: \t0.0\n",
      "Fireplaces: \t0.0\n",
      "FireplaceQu: \t0.0\n",
      "GarageType: \t0.0\n",
      "GarageYrBlt: \t0.0\n",
      "GarageFinish: \t0.0\n",
      "GarageCars: \t0.0\n",
      "GarageArea: \t0.0\n",
      "GarageQual: \t0.0\n",
      "GarageCond: \t0.0\n",
      "PavedDrive: \t0.0\n",
      "WoodDeckSF: \t0.0\n",
      "OpenPorchSF: \t0.0\n",
      "EnclosedPorch: \t0.0\n",
      "3SsnPorch: \t0.0\n",
      "ScreenPorch: \t0.0\n",
      "PoolArea: \t0.0\n",
      "PoolQC: \t0.0\n",
      "Fence: \t0.0\n",
      "MiscFeature: \t0.0\n",
      "MiscVal: \t0.0\n",
      "MoSold: \t0.0\n",
      "YrSold: \t0.0\n",
      "SaleType: \t0.0\n",
      "SaleCondition: \t0.0\n",
      "SalePrice: \t0.0\n"
     ]
    }
   ],
   "source": [
    "for varaible in housing_data.column_names():\n",
    "    percent_missing_values = (float(housing_data[varaible].num_missing())/ len(housing_data[varaible])) * 100.0\n",
    "    print (\"{0}: \\t{1}\".format(varaible, percent_missing_values))"
   ]
  },
  {
   "cell_type": "markdown",
   "metadata": {},
   "source": [
    "## Create a linear regression model with multiple features"
   ]
  },
  {
   "cell_type": "code",
   "execution_count": 85,
   "metadata": {
    "collapsed": false
   },
   "outputs": [
    {
     "data": {
      "text/html": [
       "<pre>Linear regression:</pre>"
      ],
      "text/plain": [
       "Linear regression:"
      ]
     },
     "metadata": {},
     "output_type": "display_data"
    },
    {
     "data": {
      "text/html": [
       "<pre>--------------------------------------------------------</pre>"
      ],
      "text/plain": [
       "--------------------------------------------------------"
      ]
     },
     "metadata": {},
     "output_type": "display_data"
    },
    {
     "data": {
      "text/html": [
       "<pre>Number of examples          : 1460</pre>"
      ],
      "text/plain": [
       "Number of examples          : 1460"
      ]
     },
     "metadata": {},
     "output_type": "display_data"
    },
    {
     "data": {
      "text/html": [
       "<pre>Number of features          : 79</pre>"
      ],
      "text/plain": [
       "Number of features          : 79"
      ]
     },
     "metadata": {},
     "output_type": "display_data"
    },
    {
     "data": {
      "text/html": [
       "<pre>Number of unpacked features : 79</pre>"
      ],
      "text/plain": [
       "Number of unpacked features : 79"
      ]
     },
     "metadata": {},
     "output_type": "display_data"
    },
    {
     "data": {
      "text/html": [
       "<pre>Number of coefficients    : 80</pre>"
      ],
      "text/plain": [
       "Number of coefficients    : 80"
      ]
     },
     "metadata": {},
     "output_type": "display_data"
    },
    {
     "data": {
      "text/html": [
       "<pre>Starting Newton Method</pre>"
      ],
      "text/plain": [
       "Starting Newton Method"
      ]
     },
     "metadata": {},
     "output_type": "display_data"
    },
    {
     "data": {
      "text/html": [
       "<pre>--------------------------------------------------------</pre>"
      ],
      "text/plain": [
       "--------------------------------------------------------"
      ]
     },
     "metadata": {},
     "output_type": "display_data"
    },
    {
     "data": {
      "text/html": [
       "<pre>+-----------+----------+--------------+--------------------+---------------+</pre>"
      ],
      "text/plain": [
       "+-----------+----------+--------------+--------------------+---------------+"
      ]
     },
     "metadata": {},
     "output_type": "display_data"
    },
    {
     "data": {
      "text/html": [
       "<pre>| Iteration | Passes   | Elapsed Time | Training-max_error | Training-rmse |</pre>"
      ],
      "text/plain": [
       "| Iteration | Passes   | Elapsed Time | Training-max_error | Training-rmse |"
      ]
     },
     "metadata": {},
     "output_type": "display_data"
    },
    {
     "data": {
      "text/html": [
       "<pre>+-----------+----------+--------------+--------------------+---------------+</pre>"
      ],
      "text/plain": [
       "+-----------+----------+--------------+--------------------+---------------+"
      ]
     },
     "metadata": {},
     "output_type": "display_data"
    },
    {
     "data": {
      "text/html": [
       "<pre>| 1         | 2        | 1.031724     | 388615.431440      | 30304.673687  |</pre>"
      ],
      "text/plain": [
       "| 1         | 2        | 1.031724     | 388615.431440      | 30304.673687  |"
      ]
     },
     "metadata": {},
     "output_type": "display_data"
    },
    {
     "data": {
      "text/html": [
       "<pre>+-----------+----------+--------------+--------------------+---------------+</pre>"
      ],
      "text/plain": [
       "+-----------+----------+--------------+--------------------+---------------+"
      ]
     },
     "metadata": {},
     "output_type": "display_data"
    },
    {
     "data": {
      "text/html": [
       "<pre>SUCCESS: Optimal solution found.</pre>"
      ],
      "text/plain": [
       "SUCCESS: Optimal solution found."
      ]
     },
     "metadata": {},
     "output_type": "display_data"
    },
    {
     "data": {
      "text/html": [
       "<pre></pre>"
      ],
      "text/plain": []
     },
     "metadata": {},
     "output_type": "display_data"
    }
   ],
   "source": [
    "feature_list = numerical_fields + categorical_fields\n",
    "## remove target variable from feature_list\n",
    "feature_list.remove('SalePrice')\n",
    "\n",
    "multivariate_model = graphlab.linear_regression.create(housing_data, target = 'SalePrice', features = feature_list, \n",
    "                                                  validation_set = None)"
   ]
  },
  {
   "cell_type": "markdown",
   "metadata": {},
   "source": [
    "## Now that we have fitted the model we can extract the regression weights (coefficients) as an SFrame as follows:"
   ]
  },
  {
   "cell_type": "code",
   "execution_count": 91,
   "metadata": {
    "collapsed": false
   },
   "outputs": [
    {
     "name": "stdout",
     "output_type": "stream",
     "text": [
      "+---------------+-------+----------------+----------------+\n",
      "|      name     | index |     value      |     stderr     |\n",
      "+---------------+-------+----------------+----------------+\n",
      "|  (intercept)  |  None | 4637.78349508  | 1302759.86858  |\n",
      "|   MSSubClass  |  None | -105.519062454 | 44.7124348882  |\n",
      "|  LotFrontage  |  None | -39.0240467333 | 27.4721745908  |\n",
      "|    LotArea    |  None | 0.399225248866 | 0.104344977313 |\n",
      "|  OverallQual  |  None | 10995.3131216  | 1168.52140742  |\n",
      "|  OverallCond  |  None | 5218.30446198  | 1027.90822274  |\n",
      "|   YearBuilt   |  None | 164.741556935  | 73.7658766599  |\n",
      "|  YearRemodAdd |  None | 3.66414277928  | 65.9520344899  |\n",
      "|   MasVnrArea  |  None | 32.7518244822  |  6.0290215815  |\n",
      "|   BsmtFinSF1  |  None | 5.91269480169  |      nan       |\n",
      "|   BsmtFinSF2  |  None | 9.41383284707  |      nan       |\n",
      "|   BsmtUnfSF   |  None | -2.30667013513 |      nan       |\n",
      "|  TotalBsmtSF  |  None |  1.118952686   |      nan       |\n",
      "|    1stFlrSF   |  None | 28.0415796231  |      nan       |\n",
      "|    2ndFlrSF   |  None |  23.510644992  |      nan       |\n",
      "|  LowQualFinSF |  None | -21.667485488  |      nan       |\n",
      "|   GrLivArea   |  None | 19.1831225275  |      nan       |\n",
      "|  BsmtFullBath |  None | 6399.84240502  | 2418.28802865  |\n",
      "|  BsmtHalfBath |  None | -151.528693668 | 3805.96803118  |\n",
      "|    FullBath   |  None | 3587.86278637  | 2635.83299939  |\n",
      "|    HalfBath   |  None | -110.250118707 | 2486.00150573  |\n",
      "|  BedroomAbvGr |  None | -3662.59947672 | 1636.37491084  |\n",
      "|  KitchenAbvGr |  None | -14293.109665  | 4991.36566245  |\n",
      "|  TotRmsAbvGrd |  None | 3630.17933887  | 1156.57049229  |\n",
      "|   Fireplaces  |  None | 2771.12816221  | 2180.66445203  |\n",
      "|  GarageYrBlt  |  None | -8.48394820819 | 3.15567034409  |\n",
      "|   GarageCars  |  None | 14045.0139101  | 2777.01644273  |\n",
      "|   GarageArea  |  None | -2.64739069068 | 9.16848299206  |\n",
      "|   WoodDeckSF  |  None | 21.9941706144  | 7.43211788955  |\n",
      "|  OpenPorchSF  |  None | -4.20687370604 | 14.1447395501  |\n",
      "| EnclosedPorch |  None | -2.41445126607 | 15.4284313025  |\n",
      "|   3SsnPorch   |  None | 25.6087075983  | 28.5326424787  |\n",
      "|  ScreenPorch  |  None | 46.2383740196  | 15.7937502132  |\n",
      "|    PoolArea   |  None | -271.187697296 |  45.706433637  |\n",
      "|    MiscVal    |  None | 0.839465781244 |  2.1026256809  |\n",
      "|     MoSold    |  None | -115.330439375 | 313.654582249  |\n",
      "|     YrSold    |  None | -54.6482292712 | 644.278054806  |\n",
      "|    MSZoning   |  None | -1313.70961161 | 1489.21183276  |\n",
      "|     Street    |  None | 32466.9621501  | 13872.8790298  |\n",
      "|     Alley     |  None | 4329.84889161  | 2364.10185754  |\n",
      "|    LotShape   |  None | -743.616838496 | 668.023962035  |\n",
      "|  LandContour  |  None | 3238.97784196  | 1328.98122492  |\n",
      "|   Utilities   |  None | -57282.3073377 | 32696.9765859  |\n",
      "|   LotConfig   |  None | 317.044064934  |  535.0422778   |\n",
      "|   LandSlope   |  None | 5034.97384699  | 3778.29848605  |\n",
      "|  Neighborhood |  None | 390.911870668  | 154.748735642  |\n",
      "|   Condition1  |  None | -772.426527956 | 1000.18030527  |\n",
      "|   Condition2  |  None | -8800.12986299 | 3295.25112795  |\n",
      "|    BldgType   |  None | -1924.21204693 | 1462.30326759  |\n",
      "|   HouseStyle  |  None | -1177.37149968 | 645.471830914  |\n",
      "|   RoofStyle   |  None | 1801.90677992  | 1106.03288571  |\n",
      "|    RoofMatl   |  None |  5388.741117   | 1484.92622908  |\n",
      "|  Exterior1st  |  None | -1104.34016838 | 513.420704679  |\n",
      "|  Exterior2nd  |  None | 452.230068371  | 464.178601851  |\n",
      "|   MasVnrType  |  None | 4419.10216185  | 1513.67704134  |\n",
      "|   ExterQual   |  None | -9258.94709154 | 1938.22726061  |\n",
      "|   ExterCond   |  None | 819.709242174  | 1238.97507671  |\n",
      "|   Foundation  |  None | 1613.62642264  | 1636.21870309  |\n",
      "|    BsmtQual   |  None | -7972.04562348 | 1402.80724432  |\n",
      "|    BsmtCond   |  None | 2186.79297922  | 1329.52547559  |\n",
      "|  BsmtExposure |  None | -3569.15099026 | 873.040498128  |\n",
      "|  BsmtFinType1 |  None | -637.148976143 |  613.81288166  |\n",
      "|  BsmtFinType2 |  None | 1194.92562305  | 1345.87759539  |\n",
      "|    Heating    |  None | -2203.41915456 | 3154.51289814  |\n",
      "|   HeatingQC   |  None |  -807.0839318  | 607.727726269  |\n",
      "|   CentralAir  |  None |  87.109989377  | 4400.84528401  |\n",
      "|   Electrical  |  None | -649.109742602 | 903.291533215  |\n",
      "|  KitchenQual  |  None | -8126.53591366 |  1414.3953784  |\n",
      "|   Functional  |  None | 3830.72102227  | 934.133191772  |\n",
      "|  FireplaceQu  |  None | -1292.82371947 | 939.376720198  |\n",
      "|   GarageType  |  None | 618.668270197  | 625.881454664  |\n",
      "|  GarageFinish |  None | -634.504850532 | 1449.96048959  |\n",
      "|   GarageQual  |  None | -1031.62263574 | 1741.79815386  |\n",
      "|   GarageCond  |  None | 1267.73067843  | 1981.73313797  |\n",
      "|   PavedDrive  |  None | 2229.51744733  | 2033.39433034  |\n",
      "|     PoolQC    |  None | -82993.0200541 | 13241.4385116  |\n",
      "|     Fence     |  None | 250.716675164  | 838.598501101  |\n",
      "|  MiscFeature  |  None | 2473.79076789  | 2643.02960721  |\n",
      "|    SaleType   |  None | -687.303884035 | 565.959377512  |\n",
      "| SaleCondition |  None | 3088.67062667  |  815.62263339  |\n",
      "+---------------+-------+----------------+----------------+\n",
      "[80 rows x 4 columns]\n",
      "\n"
     ]
    }
   ],
   "source": [
    "coefficients_summary = multivariate_model.get(\"coefficients\")\n",
    "coefficients_summary.print_rows(num_rows=80, num_columns=4) "
   ]
  },
  {
   "cell_type": "markdown",
   "metadata": {},
   "source": [
    "## Calculate prediction values on the housing data"
   ]
  },
  {
   "cell_type": "code",
   "execution_count": 92,
   "metadata": {
    "collapsed": true
   },
   "outputs": [],
   "source": [
    "predicted_values = multivariate_model.predict(housing_data)"
   ]
  },
  {
   "cell_type": "markdown",
   "metadata": {},
   "source": [
    "## Compute RSS\n"
   ]
  },
  {
   "cell_type": "code",
   "execution_count": 95,
   "metadata": {
    "collapsed": false
   },
   "outputs": [
    {
     "name": "stdout",
     "output_type": "stream",
     "text": [
      "1340824941036.59\n"
     ]
    }
   ],
   "source": [
    "# Then compute the residuals/errors\n",
    "residuals = predicted_values - housing_data['SalePrice']\n",
    "\n",
    "# Then square and add them up\n",
    "squared_residuals = residuals * residuals\n",
    "RSS = squared_residuals.sum()\n",
    "\n",
    "print \"%.2f\" % RSS   "
   ]
  },
  {
   "cell_type": "code",
   "execution_count": null,
   "metadata": {
    "collapsed": true
   },
   "outputs": [],
   "source": []
  }
 ],
 "metadata": {
  "kernelspec": {
   "display_name": "Python 2",
   "language": "python",
   "name": "python2"
  },
  "language_info": {
   "codemirror_mode": {
    "name": "ipython",
    "version": 2
   },
   "file_extension": ".py",
   "mimetype": "text/x-python",
   "name": "python",
   "nbconvert_exporter": "python",
   "pygments_lexer": "ipython2",
   "version": "2.7.12"
  }
 },
 "nbformat": 4,
 "nbformat_minor": 0
}
